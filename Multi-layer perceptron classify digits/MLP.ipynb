{
  "nbformat": 4,
  "nbformat_minor": 0,
  "metadata": {
    "colab": {
      "provenance": []
    },
    "kernelspec": {
      "name": "python3",
      "display_name": "Python 3"
    },
    "language_info": {
      "name": "python"
    }
  },
  "cells": [
    {
      "cell_type": "code",
      "execution_count": 314,
      "metadata": {
        "id": "LL2fmOONXv79"
      },
      "outputs": [],
      "source": [
        "import numpy as np \n",
        "import tensorflow as tf\n",
        "from tensorflow import keras\n",
        "from keras.models import Sequential\n",
        "from keras.layers import Dense\n",
        "import pandas as pd \n",
        "from sklearn.neural_network import MLPClassifier\n",
        "from sklearn.model_selection import KFold\n",
        "from sklearn.metrics import accuracy_score\n",
        "from sklearn.datasets import load_digits\n",
        "from sklearn.model_selection import train_test_split\n",
        "from sklearn import datasets\n",
        "import matplotlib.pyplot as plt\n",
        "import seaborn as sns\n",
        "from keras.datasets import mnist\n",
        "from sklearn.model_selection import cross_val_score\n",
        "from keras.utils import to_categorical\n",
        "from keras import layers"
      ]
    },
    {
      "cell_type": "code",
      "source": [
        "np.random.seed(42)"
      ],
      "metadata": {
        "id": "n0k2TsL6YHKm"
      },
      "execution_count": 315,
      "outputs": []
    },
    {
      "cell_type": "code",
      "source": [
        "(x_train, y_train),(x_test, y_test) = mnist.load_data()"
      ],
      "metadata": {
        "id": "PCuXDAAicH2E"
      },
      "execution_count": 316,
      "outputs": []
    },
    {
      "cell_type": "code",
      "source": [
        "X = np.concatenate([x_train, x_test])\n",
        "Y = np.concatenate([y_train, y_test])\n",
        "\n",
        "x_train, x_test, y_train, y_test = train_test_split(X, Y, test_size=0.2, random_state=0, stratify=Y)"
      ],
      "metadata": {
        "id": "kKcvSLzDcyyN"
      },
      "execution_count": 317,
      "outputs": []
    },
    {
      "cell_type": "code",
      "source": [
        "y_train.shape\n",
        "x_train.shape"
      ],
      "metadata": {
        "colab": {
          "base_uri": "https://localhost:8080/",
          "height": 0
        },
        "id": "Ak5D3NDOc1vC",
        "outputId": "4db434fa-e562-4501-df12-89feb0ceeb8f"
      },
      "execution_count": 318,
      "outputs": [
        {
          "output_type": "execute_result",
          "data": {
            "text/plain": [
              "(56000, 28, 28)"
            ]
          },
          "metadata": {},
          "execution_count": 318
        }
      ]
    },
    {
      "cell_type": "code",
      "source": [
        "x_train_reshape = np.zeros((x_train.shape[0], 10))\n",
        "x_train_reshape.shape"
      ],
      "metadata": {
        "colab": {
          "base_uri": "https://localhost:8080/",
          "height": 0
        },
        "id": "6IHZP8Wygx_q",
        "outputId": "af2db5c9-64c0-4135-d9d7-3e38075313eb"
      },
      "execution_count": 319,
      "outputs": [
        {
          "output_type": "execute_result",
          "data": {
            "text/plain": [
              "(56000, 10)"
            ]
          },
          "metadata": {},
          "execution_count": 319
        }
      ]
    },
    {
      "cell_type": "code",
      "source": [
        "image_size = x_train.shape[1]\n",
        "input_size = image_size * image_size\n",
        "input_size"
      ],
      "metadata": {
        "colab": {
          "base_uri": "https://localhost:8080/",
          "height": 0
        },
        "id": "Q4YnrI2Wc-Og",
        "outputId": "51894f16-8bff-4afd-ac2f-a2c250b1c737"
      },
      "execution_count": 320,
      "outputs": [
        {
          "output_type": "execute_result",
          "data": {
            "text/plain": [
              "784"
            ]
          },
          "metadata": {},
          "execution_count": 320
        }
      ]
    },
    {
      "cell_type": "code",
      "source": [
        "x_train = np.reshape(x_train, [-1, input_size])\n",
        "x_train = x_train.astype('float32') / 255\n",
        "x_test = np.reshape(x_test, [-1, input_size])\n",
        "x_test = x_test.astype('float32') / 255"
      ],
      "metadata": {
        "id": "FQJrUeeadBBa"
      },
      "execution_count": 321,
      "outputs": []
    },
    {
      "cell_type": "code",
      "source": [
        "x_train.shape"
      ],
      "metadata": {
        "colab": {
          "base_uri": "https://localhost:8080/",
          "height": 0
        },
        "id": "ilvBzxICdDZv",
        "outputId": "3fa61f17-2bc8-4108-c0a1-49c350935655"
      },
      "execution_count": 322,
      "outputs": [
        {
          "output_type": "execute_result",
          "data": {
            "text/plain": [
              "(56000, 784)"
            ]
          },
          "metadata": {},
          "execution_count": 322
        }
      ]
    },
    {
      "cell_type": "markdown",
      "source": [
        "##Model 1"
      ],
      "metadata": {
        "id": "qkXvcOJ8_F3X"
      }
    },
    {
      "cell_type": "code",
      "source": [
        "model1 = MLPClassifier(random_state=1, max_iter=10000)"
      ],
      "metadata": {
        "id": "FSeDqkj3d1KX"
      },
      "execution_count": 323,
      "outputs": []
    },
    {
      "cell_type": "code",
      "source": [
        "model1.fit(x_train,y_train)"
      ],
      "metadata": {
        "colab": {
          "base_uri": "https://localhost:8080/",
          "height": 0
        },
        "id": "mGOjwPxP6CnO",
        "outputId": "22ae81b5-91c1-4b98-9057-2ce5f96003c2"
      },
      "execution_count": 324,
      "outputs": [
        {
          "output_type": "execute_result",
          "data": {
            "text/plain": [
              "MLPClassifier(max_iter=10000, random_state=1)"
            ]
          },
          "metadata": {},
          "execution_count": 324
        }
      ]
    },
    {
      "cell_type": "code",
      "source": [
        "score = cross_val_score(model1, x_train, y_train, cv=5)\n",
        "score"
      ],
      "metadata": {
        "colab": {
          "base_uri": "https://localhost:8080/",
          "height": 0
        },
        "id": "HHTgDpH27XHj",
        "outputId": "a11df7d9-8c2e-4c91-f5ab-2f266c4d5645"
      },
      "execution_count": 325,
      "outputs": [
        {
          "output_type": "execute_result",
          "data": {
            "text/plain": [
              "array([0.97660714, 0.97383929, 0.97616071, 0.97455357, 0.96616071])"
            ]
          },
          "metadata": {},
          "execution_count": 325
        }
      ]
    },
    {
      "cell_type": "code",
      "source": [
        "score_test = cross_val_score(model1,x_test,y_test, cv=5)"
      ],
      "metadata": {
        "id": "UIe2ImDDfG7I"
      },
      "execution_count": 352,
      "outputs": []
    },
    {
      "cell_type": "code",
      "source": [
        "score1_test_avg = score_test.mean()"
      ],
      "metadata": {
        "id": "zxH5aTv_gDxo"
      },
      "execution_count": 355,
      "outputs": []
    },
    {
      "cell_type": "code",
      "source": [
        "score_collection_test = []\n",
        "score_collection_test.append(score1_test_avg)"
      ],
      "metadata": {
        "id": "EhcFALuogOF0"
      },
      "execution_count": 356,
      "outputs": []
    },
    {
      "cell_type": "code",
      "source": [
        "df = pd.DataFrame(score)\n",
        "df.rename(columns={0:'model 1'})\n"
      ],
      "metadata": {
        "colab": {
          "base_uri": "https://localhost:8080/",
          "height": 206
        },
        "id": "Oa4GrKBoBoyI",
        "outputId": "97e7c076-ad98-4f5d-e56c-a598a8d2e897"
      },
      "execution_count": 326,
      "outputs": [
        {
          "output_type": "execute_result",
          "data": {
            "text/plain": [
              "    model 1\n",
              "0  0.976607\n",
              "1  0.973839\n",
              "2  0.976161\n",
              "3  0.974554\n",
              "4  0.966161"
            ],
            "text/html": [
              "\n",
              "  <div id=\"df-0f982007-6eba-4570-99fd-d1ff9000c244\">\n",
              "    <div class=\"colab-df-container\">\n",
              "      <div>\n",
              "<style scoped>\n",
              "    .dataframe tbody tr th:only-of-type {\n",
              "        vertical-align: middle;\n",
              "    }\n",
              "\n",
              "    .dataframe tbody tr th {\n",
              "        vertical-align: top;\n",
              "    }\n",
              "\n",
              "    .dataframe thead th {\n",
              "        text-align: right;\n",
              "    }\n",
              "</style>\n",
              "<table border=\"1\" class=\"dataframe\">\n",
              "  <thead>\n",
              "    <tr style=\"text-align: right;\">\n",
              "      <th></th>\n",
              "      <th>model 1</th>\n",
              "    </tr>\n",
              "  </thead>\n",
              "  <tbody>\n",
              "    <tr>\n",
              "      <th>0</th>\n",
              "      <td>0.976607</td>\n",
              "    </tr>\n",
              "    <tr>\n",
              "      <th>1</th>\n",
              "      <td>0.973839</td>\n",
              "    </tr>\n",
              "    <tr>\n",
              "      <th>2</th>\n",
              "      <td>0.976161</td>\n",
              "    </tr>\n",
              "    <tr>\n",
              "      <th>3</th>\n",
              "      <td>0.974554</td>\n",
              "    </tr>\n",
              "    <tr>\n",
              "      <th>4</th>\n",
              "      <td>0.966161</td>\n",
              "    </tr>\n",
              "  </tbody>\n",
              "</table>\n",
              "</div>\n",
              "      <button class=\"colab-df-convert\" onclick=\"convertToInteractive('df-0f982007-6eba-4570-99fd-d1ff9000c244')\"\n",
              "              title=\"Convert this dataframe to an interactive table.\"\n",
              "              style=\"display:none;\">\n",
              "        \n",
              "  <svg xmlns=\"http://www.w3.org/2000/svg\" height=\"24px\"viewBox=\"0 0 24 24\"\n",
              "       width=\"24px\">\n",
              "    <path d=\"M0 0h24v24H0V0z\" fill=\"none\"/>\n",
              "    <path d=\"M18.56 5.44l.94 2.06.94-2.06 2.06-.94-2.06-.94-.94-2.06-.94 2.06-2.06.94zm-11 1L8.5 8.5l.94-2.06 2.06-.94-2.06-.94L8.5 2.5l-.94 2.06-2.06.94zm10 10l.94 2.06.94-2.06 2.06-.94-2.06-.94-.94-2.06-.94 2.06-2.06.94z\"/><path d=\"M17.41 7.96l-1.37-1.37c-.4-.4-.92-.59-1.43-.59-.52 0-1.04.2-1.43.59L10.3 9.45l-7.72 7.72c-.78.78-.78 2.05 0 2.83L4 21.41c.39.39.9.59 1.41.59.51 0 1.02-.2 1.41-.59l7.78-7.78 2.81-2.81c.8-.78.8-2.07 0-2.86zM5.41 20L4 18.59l7.72-7.72 1.47 1.35L5.41 20z\"/>\n",
              "  </svg>\n",
              "      </button>\n",
              "      \n",
              "  <style>\n",
              "    .colab-df-container {\n",
              "      display:flex;\n",
              "      flex-wrap:wrap;\n",
              "      gap: 12px;\n",
              "    }\n",
              "\n",
              "    .colab-df-convert {\n",
              "      background-color: #E8F0FE;\n",
              "      border: none;\n",
              "      border-radius: 50%;\n",
              "      cursor: pointer;\n",
              "      display: none;\n",
              "      fill: #1967D2;\n",
              "      height: 32px;\n",
              "      padding: 0 0 0 0;\n",
              "      width: 32px;\n",
              "    }\n",
              "\n",
              "    .colab-df-convert:hover {\n",
              "      background-color: #E2EBFA;\n",
              "      box-shadow: 0px 1px 2px rgba(60, 64, 67, 0.3), 0px 1px 3px 1px rgba(60, 64, 67, 0.15);\n",
              "      fill: #174EA6;\n",
              "    }\n",
              "\n",
              "    [theme=dark] .colab-df-convert {\n",
              "      background-color: #3B4455;\n",
              "      fill: #D2E3FC;\n",
              "    }\n",
              "\n",
              "    [theme=dark] .colab-df-convert:hover {\n",
              "      background-color: #434B5C;\n",
              "      box-shadow: 0px 1px 3px 1px rgba(0, 0, 0, 0.15);\n",
              "      filter: drop-shadow(0px 1px 2px rgba(0, 0, 0, 0.3));\n",
              "      fill: #FFFFFF;\n",
              "    }\n",
              "  </style>\n",
              "\n",
              "      <script>\n",
              "        const buttonEl =\n",
              "          document.querySelector('#df-0f982007-6eba-4570-99fd-d1ff9000c244 button.colab-df-convert');\n",
              "        buttonEl.style.display =\n",
              "          google.colab.kernel.accessAllowed ? 'block' : 'none';\n",
              "\n",
              "        async function convertToInteractive(key) {\n",
              "          const element = document.querySelector('#df-0f982007-6eba-4570-99fd-d1ff9000c244');\n",
              "          const dataTable =\n",
              "            await google.colab.kernel.invokeFunction('convertToInteractive',\n",
              "                                                     [key], {});\n",
              "          if (!dataTable) return;\n",
              "\n",
              "          const docLinkHtml = 'Like what you see? Visit the ' +\n",
              "            '<a target=\"_blank\" href=https://colab.research.google.com/notebooks/data_table.ipynb>data table notebook</a>'\n",
              "            + ' to learn more about interactive tables.';\n",
              "          element.innerHTML = '';\n",
              "          dataTable['output_type'] = 'display_data';\n",
              "          await google.colab.output.renderOutput(dataTable, element);\n",
              "          const docLink = document.createElement('div');\n",
              "          docLink.innerHTML = docLinkHtml;\n",
              "          element.appendChild(docLink);\n",
              "        }\n",
              "      </script>\n",
              "    </div>\n",
              "  </div>\n",
              "  "
            ]
          },
          "metadata": {},
          "execution_count": 326
        }
      ]
    },
    {
      "cell_type": "code",
      "source": [
        "score1 = score.mean()\n",
        "score_collection = []\n",
        "score_collection.append(score1)\n"
      ],
      "metadata": {
        "id": "MyS5TM518E59"
      },
      "execution_count": 327,
      "outputs": []
    },
    {
      "cell_type": "code",
      "source": [
        "score_collection"
      ],
      "metadata": {
        "colab": {
          "base_uri": "https://localhost:8080/",
          "height": 0
        },
        "id": "3_i9ym8Oq58O",
        "outputId": "79d95a81-38ed-4a3c-b047-03844345d184"
      },
      "execution_count": 328,
      "outputs": [
        {
          "output_type": "execute_result",
          "data": {
            "text/plain": [
              "[0.9734642857142857]"
            ]
          },
          "metadata": {},
          "execution_count": 328
        }
      ]
    },
    {
      "cell_type": "markdown",
      "source": [
        "## Model 2\n",
        "https://github.com/christianversloot/machine-learning-articles/blob/main/how-to-use-k-fold-cross-validation-with-keras.md\n",
        "\n"
      ],
      "metadata": {
        "id": "zZBy9b__8zHQ"
      }
    },
    {
      "cell_type": "code",
      "source": [
        "num_features = 784\n",
        "num_classes = 10"
      ],
      "metadata": {
        "id": "5uvdHdgh8I7y"
      },
      "execution_count": 329,
      "outputs": []
    },
    {
      "cell_type": "code",
      "source": [
        "observation = 15\n",
        "plt.imshow(X[observation], cmap='Greys')\n",
        "plt.show()\n",
        "print(Y[observation])"
      ],
      "metadata": {
        "colab": {
          "base_uri": "https://localhost:8080/",
          "height": 283
        },
        "id": "5v2XASJ88-xV",
        "outputId": "cede59d6-08d6-43fa-dca8-54ea8520e009"
      },
      "execution_count": 330,
      "outputs": [
        {
          "output_type": "display_data",
          "data": {
            "text/plain": [
              "<Figure size 432x288 with 1 Axes>"
            ],
            "image/png": "[encoded data removed]"
          },
          "metadata": {
            "needs_background": "light"
          }
        },
        {
          "output_type": "stream",
          "name": "stdout",
          "text": [
            "7\n"
          ]
        }
      ]
    },
    {
      "cell_type": "code",
      "source": [
        "x_train.shape"
      ],
      "metadata": {
        "colab": {
          "base_uri": "https://localhost:8080/",
          "height": 0
        },
        "id": "s8KVfx8G9cfs",
        "outputId": "83155f37-b77b-4c7e-ca35-aa508562202c"
      },
      "execution_count": 331,
      "outputs": [
        {
          "output_type": "execute_result",
          "data": {
            "text/plain": [
              "(56000, 784)"
            ]
          },
          "metadata": {},
          "execution_count": 331
        }
      ]
    },
    {
      "cell_type": "code",
      "source": [
        "# Saving backups for later\n",
        "Y_train_vals = y_train\n",
        "Y_test_vals = y_test"
      ],
      "metadata": {
        "id": "Q5mXFFnE9408"
      },
      "execution_count": 332,
      "outputs": []
    },
    {
      "cell_type": "code",
      "source": [
        "# Convert class values to class vectors (one-hot encoding)\n",
        "y_train = to_categorical(y_train, num_classes)\n",
        "y_test = to_categorical(y_test, num_classes)"
      ],
      "metadata": {
        "id": "ckgc5D0m98tZ"
      },
      "execution_count": 333,
      "outputs": []
    },
    {
      "cell_type": "code",
      "source": [
        "df"
      ],
      "metadata": {
        "colab": {
          "base_uri": "https://localhost:8080/",
          "height": 206
        },
        "id": "zkLdlhwhCgkt",
        "outputId": "8705ae85-d8b7-4b9d-92e4-be148a27d4af"
      },
      "execution_count": 334,
      "outputs": [
        {
          "output_type": "execute_result",
          "data": {
            "text/plain": [
              "          0\n",
              "0  0.976607\n",
              "1  0.973839\n",
              "2  0.976161\n",
              "3  0.974554\n",
              "4  0.966161"
            ],
            "text/html": [
              "\n",
              "  <div id=\"df-c191c923-cf8c-47e7-abb3-1d0b3ccefb71\">\n",
              "    <div class=\"colab-df-container\">\n",
              "      <div>\n",
              "<style scoped>\n",
              "    .dataframe tbody tr th:only-of-type {\n",
              "        vertical-align: middle;\n",
              "    }\n",
              "\n",
              "    .dataframe tbody tr th {\n",
              "        vertical-align: top;\n",
              "    }\n",
              "\n",
              "    .dataframe thead th {\n",
              "        text-align: right;\n",
              "    }\n",
              "</style>\n",
              "<table border=\"1\" class=\"dataframe\">\n",
              "  <thead>\n",
              "    <tr style=\"text-align: right;\">\n",
              "      <th></th>\n",
              "      <th>0</th>\n",
              "    </tr>\n",
              "  </thead>\n",
              "  <tbody>\n",
              "    <tr>\n",
              "      <th>0</th>\n",
              "      <td>0.976607</td>\n",
              "    </tr>\n",
              "    <tr>\n",
              "      <th>1</th>\n",
              "      <td>0.973839</td>\n",
              "    </tr>\n",
              "    <tr>\n",
              "      <th>2</th>\n",
              "      <td>0.976161</td>\n",
              "    </tr>\n",
              "    <tr>\n",
              "      <th>3</th>\n",
              "      <td>0.974554</td>\n",
              "    </tr>\n",
              "    <tr>\n",
              "      <th>4</th>\n",
              "      <td>0.966161</td>\n",
              "    </tr>\n",
              "  </tbody>\n",
              "</table>\n",
              "</div>\n",
              "      <button class=\"colab-df-convert\" onclick=\"convertToInteractive('df-c191c923-cf8c-47e7-abb3-1d0b3ccefb71')\"\n",
              "              title=\"Convert this dataframe to an interactive table.\"\n",
              "              style=\"display:none;\">\n",
              "        \n",
              "  <svg xmlns=\"http://www.w3.org/2000/svg\" height=\"24px\"viewBox=\"0 0 24 24\"\n",
              "       width=\"24px\">\n",
              "    <path d=\"M0 0h24v24H0V0z\" fill=\"none\"/>\n",
              "    <path d=\"M18.56 5.44l.94 2.06.94-2.06 2.06-.94-2.06-.94-.94-2.06-.94 2.06-2.06.94zm-11 1L8.5 8.5l.94-2.06 2.06-.94-2.06-.94L8.5 2.5l-.94 2.06-2.06.94zm10 10l.94 2.06.94-2.06 2.06-.94-2.06-.94-.94-2.06-.94 2.06-2.06.94z\"/><path d=\"M17.41 7.96l-1.37-1.37c-.4-.4-.92-.59-1.43-.59-.52 0-1.04.2-1.43.59L10.3 9.45l-7.72 7.72c-.78.78-.78 2.05 0 2.83L4 21.41c.39.39.9.59 1.41.59.51 0 1.02-.2 1.41-.59l7.78-7.78 2.81-2.81c.8-.78.8-2.07 0-2.86zM5.41 20L4 18.59l7.72-7.72 1.47 1.35L5.41 20z\"/>\n",
              "  </svg>\n",
              "      </button>\n",
              "      \n",
              "  <style>\n",
              "    .colab-df-container {\n",
              "      display:flex;\n",
              "      flex-wrap:wrap;\n",
              "      gap: 12px;\n",
              "    }\n",
              "\n",
              "    .colab-df-convert {\n",
              "      background-color: #E8F0FE;\n",
              "      border: none;\n",
              "      border-radius: 50%;\n",
              "      cursor: pointer;\n",
              "      display: none;\n",
              "      fill: #1967D2;\n",
              "      height: 32px;\n",
              "      padding: 0 0 0 0;\n",
              "      width: 32px;\n",
              "    }\n",
              "\n",
              "    .colab-df-convert:hover {\n",
              "      background-color: #E2EBFA;\n",
              "      box-shadow: 0px 1px 2px rgba(60, 64, 67, 0.3), 0px 1px 3px 1px rgba(60, 64, 67, 0.15);\n",
              "      fill: #174EA6;\n",
              "    }\n",
              "\n",
              "    [theme=dark] .colab-df-convert {\n",
              "      background-color: #3B4455;\n",
              "      fill: #D2E3FC;\n",
              "    }\n",
              "\n",
              "    [theme=dark] .colab-df-convert:hover {\n",
              "      background-color: #434B5C;\n",
              "      box-shadow: 0px 1px 3px 1px rgba(0, 0, 0, 0.15);\n",
              "      filter: drop-shadow(0px 1px 2px rgba(0, 0, 0, 0.3));\n",
              "      fill: #FFFFFF;\n",
              "    }\n",
              "  </style>\n",
              "\n",
              "      <script>\n",
              "        const buttonEl =\n",
              "          document.querySelector('#df-c191c923-cf8c-47e7-abb3-1d0b3ccefb71 button.colab-df-convert');\n",
              "        buttonEl.style.display =\n",
              "          google.colab.kernel.accessAllowed ? 'block' : 'none';\n",
              "\n",
              "        async function convertToInteractive(key) {\n",
              "          const element = document.querySelector('#df-c191c923-cf8c-47e7-abb3-1d0b3ccefb71');\n",
              "          const dataTable =\n",
              "            await google.colab.kernel.invokeFunction('convertToInteractive',\n",
              "                                                     [key], {});\n",
              "          if (!dataTable) return;\n",
              "\n",
              "          const docLinkHtml = 'Like what you see? Visit the ' +\n",
              "            '<a target=\"_blank\" href=https://colab.research.google.com/notebooks/data_table.ipynb>data table notebook</a>'\n",
              "            + ' to learn more about interactive tables.';\n",
              "          element.innerHTML = '';\n",
              "          dataTable['output_type'] = 'display_data';\n",
              "          await google.colab.output.renderOutput(dataTable, element);\n",
              "          const docLink = document.createElement('div');\n",
              "          docLink.innerHTML = docLinkHtml;\n",
              "          element.appendChild(docLink);\n",
              "        }\n",
              "      </script>\n",
              "    </div>\n",
              "  </div>\n",
              "  "
            ]
          },
          "metadata": {},
          "execution_count": 334
        }
      ]
    },
    {
      "cell_type": "code",
      "source": [
        "# Merge inputs and targets\n",
        "inputs = X\n",
        "targets = Y\n",
        "# Define the K-fold Cross Validator\n",
        "kfold = KFold(n_splits=5, shuffle=True)\n",
        "score2 = []\n",
        "score2_test = []\n",
        "\n",
        "for train, test in kfold.split(x_train, y_train):\n",
        "  model2 = Sequential()\n",
        "  model2.add(layers.Dense(400, input_shape=(num_features,)))\n",
        "  model2.add(layers.Dense(150, activation='relu'))\n",
        "  model2.add(layers.Dense(50, activation='relu'))\n",
        "  model2.add(layers.Dense(10, activation=\"softmax\"))\n",
        "  model2.summary()\n",
        "  model2.compile(loss='categorical_crossentropy', optimizer='adam', metrics=['accuracy'])\n",
        "  model2.fit(x_train, y_train, epochs=10, batch_size=250, verbose=1, validation_split=0.2)\n",
        "  # Test the model after training\n",
        "  train_restul = model2.evaluate(x_train, y_train, verbose=0)\n",
        "  print(f'Train results - Loss: {train_restul[0]} - Accuracy: {train_restul[1]}%')\n",
        "\n",
        "  # Test the model after training\n",
        "  test_restul = model2.evaluate(x_test, y_test, verbose=0)\n",
        "  print(f'Test results - Loss: {test_restul[0]} - Accuracy: {test_restul[1]}%')\n",
        "  score2.append(train_restul[1])\n",
        "  score2_test.append(test_restul[1])"
      ],
      "metadata": {
        "id": "9Hca70UMed2q"
      },
      "execution_count": null,
      "outputs": []
    },
    {
      "cell_type": "code",
      "source": [
        "score_collection_test.append(sum(score2_test)/len(score2_test))"
      ],
      "metadata": {
        "id": "hVvh1EzliVpp"
      },
      "execution_count": 364,
      "outputs": []
    },
    {
      "cell_type": "code",
      "source": [
        "score_collection_test"
      ],
      "metadata": {
        "id": "bvMXhOQsieHC"
      },
      "execution_count": null,
      "outputs": []
    },
    {
      "cell_type": "code",
      "source": [
        "score2"
      ],
      "metadata": {
        "colab": {
          "base_uri": "https://localhost:8080/",
          "height": 0
        },
        "id": "7NukTjg2Mwxg",
        "outputId": "26dc8736-4a04-4c3b-d8cb-761671494fe4"
      },
      "execution_count": 336,
      "outputs": [
        {
          "output_type": "execute_result",
          "data": {
            "text/plain": [
              "[0.9884464144706726,\n",
              " 0.9887499809265137,\n",
              " 0.9873214364051819,\n",
              " 0.9900714159011841,\n",
              " 0.9881428480148315]"
            ]
          },
          "metadata": {},
          "execution_count": 336
        }
      ]
    },
    {
      "cell_type": "code",
      "source": [
        "df['model 2'] = score2\n",
        "df"
      ],
      "metadata": {
        "colab": {
          "base_uri": "https://localhost:8080/",
          "height": 206
        },
        "id": "I336K8VYD_mP",
        "outputId": "f8057494-ba53-4b19-88c4-a15e652b0d55"
      },
      "execution_count": 337,
      "outputs": [
        {
          "output_type": "execute_result",
          "data": {
            "text/plain": [
              "          0   model 2\n",
              "0  0.976607  0.988446\n",
              "1  0.973839  0.988750\n",
              "2  0.976161  0.987321\n",
              "3  0.974554  0.990071\n",
              "4  0.966161  0.988143"
            ],
            "text/html": [
              "\n",
              "  <div id=\"df-263a3098-9f21-4dfb-8c1b-134891d909f9\">\n",
              "    <div class=\"colab-df-container\">\n",
              "      <div>\n",
              "<style scoped>\n",
              "    .dataframe tbody tr th:only-of-type {\n",
              "        vertical-align: middle;\n",
              "    }\n",
              "\n",
              "    .dataframe tbody tr th {\n",
              "        vertical-align: top;\n",
              "    }\n",
              "\n",
              "    .dataframe thead th {\n",
              "        text-align: right;\n",
              "    }\n",
              "</style>\n",
              "<table border=\"1\" class=\"dataframe\">\n",
              "  <thead>\n",
              "    <tr style=\"text-align: right;\">\n",
              "      <th></th>\n",
              "      <th>0</th>\n",
              "      <th>model 2</th>\n",
              "    </tr>\n",
              "  </thead>\n",
              "  <tbody>\n",
              "    <tr>\n",
              "      <th>0</th>\n",
              "      <td>0.976607</td>\n",
              "      <td>0.988446</td>\n",
              "    </tr>\n",
              "    <tr>\n",
              "      <th>1</th>\n",
              "      <td>0.973839</td>\n",
              "      <td>0.988750</td>\n",
              "    </tr>\n",
              "    <tr>\n",
              "      <th>2</th>\n",
              "      <td>0.976161</td>\n",
              "      <td>0.987321</td>\n",
              "    </tr>\n",
              "    <tr>\n",
              "      <th>3</th>\n",
              "      <td>0.974554</td>\n",
              "      <td>0.990071</td>\n",
              "    </tr>\n",
              "    <tr>\n",
              "      <th>4</th>\n",
              "      <td>0.966161</td>\n",
              "      <td>0.988143</td>\n",
              "    </tr>\n",
              "  </tbody>\n",
              "</table>\n",
              "</div>\n",
              "      <button class=\"colab-df-convert\" onclick=\"convertToInteractive('df-263a3098-9f21-4dfb-8c1b-134891d909f9')\"\n",
              "              title=\"Convert this dataframe to an interactive table.\"\n",
              "              style=\"display:none;\">\n",
              "        \n",
              "  <svg xmlns=\"http://www.w3.org/2000/svg\" height=\"24px\"viewBox=\"0 0 24 24\"\n",
              "       width=\"24px\">\n",
              "    <path d=\"M0 0h24v24H0V0z\" fill=\"none\"/>\n",
              "    <path d=\"M18.56 5.44l.94 2.06.94-2.06 2.06-.94-2.06-.94-.94-2.06-.94 2.06-2.06.94zm-11 1L8.5 8.5l.94-2.06 2.06-.94-2.06-.94L8.5 2.5l-.94 2.06-2.06.94zm10 10l.94 2.06.94-2.06 2.06-.94-2.06-.94-.94-2.06-.94 2.06-2.06.94z\"/><path d=\"M17.41 7.96l-1.37-1.37c-.4-.4-.92-.59-1.43-.59-.52 0-1.04.2-1.43.59L10.3 9.45l-7.72 7.72c-.78.78-.78 2.05 0 2.83L4 21.41c.39.39.9.59 1.41.59.51 0 1.02-.2 1.41-.59l7.78-7.78 2.81-2.81c.8-.78.8-2.07 0-2.86zM5.41 20L4 18.59l7.72-7.72 1.47 1.35L5.41 20z\"/>\n",
              "  </svg>\n",
              "      </button>\n",
              "      \n",
              "  <style>\n",
              "    .colab-df-container {\n",
              "      display:flex;\n",
              "      flex-wrap:wrap;\n",
              "      gap: 12px;\n",
              "    }\n",
              "\n",
              "    .colab-df-convert {\n",
              "      background-color: #E8F0FE;\n",
              "      border: none;\n",
              "      border-radius: 50%;\n",
              "      cursor: pointer;\n",
              "      display: none;\n",
              "      fill: #1967D2;\n",
              "      height: 32px;\n",
              "      padding: 0 0 0 0;\n",
              "      width: 32px;\n",
              "    }\n",
              "\n",
              "    .colab-df-convert:hover {\n",
              "      background-color: #E2EBFA;\n",
              "      box-shadow: 0px 1px 2px rgba(60, 64, 67, 0.3), 0px 1px 3px 1px rgba(60, 64, 67, 0.15);\n",
              "      fill: #174EA6;\n",
              "    }\n",
              "\n",
              "    [theme=dark] .colab-df-convert {\n",
              "      background-color: #3B4455;\n",
              "      fill: #D2E3FC;\n",
              "    }\n",
              "\n",
              "    [theme=dark] .colab-df-convert:hover {\n",
              "      background-color: #434B5C;\n",
              "      box-shadow: 0px 1px 3px 1px rgba(0, 0, 0, 0.15);\n",
              "      filter: drop-shadow(0px 1px 2px rgba(0, 0, 0, 0.3));\n",
              "      fill: #FFFFFF;\n",
              "    }\n",
              "  </style>\n",
              "\n",
              "      <script>\n",
              "        const buttonEl =\n",
              "          document.querySelector('#df-263a3098-9f21-4dfb-8c1b-134891d909f9 button.colab-df-convert');\n",
              "        buttonEl.style.display =\n",
              "          google.colab.kernel.accessAllowed ? 'block' : 'none';\n",
              "\n",
              "        async function convertToInteractive(key) {\n",
              "          const element = document.querySelector('#df-263a3098-9f21-4dfb-8c1b-134891d909f9');\n",
              "          const dataTable =\n",
              "            await google.colab.kernel.invokeFunction('convertToInteractive',\n",
              "                                                     [key], {});\n",
              "          if (!dataTable) return;\n",
              "\n",
              "          const docLinkHtml = 'Like what you see? Visit the ' +\n",
              "            '<a target=\"_blank\" href=https://colab.research.google.com/notebooks/data_table.ipynb>data table notebook</a>'\n",
              "            + ' to learn more about interactive tables.';\n",
              "          element.innerHTML = '';\n",
              "          dataTable['output_type'] = 'display_data';\n",
              "          await google.colab.output.renderOutput(dataTable, element);\n",
              "          const docLink = document.createElement('div');\n",
              "          docLink.innerHTML = docLinkHtml;\n",
              "          element.appendChild(docLink);\n",
              "        }\n",
              "      </script>\n",
              "    </div>\n",
              "  </div>\n",
              "  "
            ]
          },
          "metadata": {},
          "execution_count": 337
        }
      ]
    },
    {
      "cell_type": "markdown",
      "source": [
        "##Model 3"
      ],
      "metadata": {
        "id": "fSPUGc8FYEPT"
      }
    },
    {
      "cell_type": "code",
      "source": [
        "score3 = []\n",
        "score3_test = []\n",
        "for train, test in kfold.split(inputs, targets):\n",
        "  model3 = Sequential()\n",
        "  model3.add(layers.Dense(64, input_shape=(num_features,)))\n",
        "  model3.add(layers.Dense(32, activation='relu'))\n",
        "  model3.add(layers.Dense(8, activation='relu'))\n",
        "  model3.add(layers.Dense(10, activation=\"softmax\"))\n",
        "  model3.summary()\n",
        "  model3.compile(loss='categorical_crossentropy', optimizer='adam', metrics=['accuracy'])\n",
        "  model3.fit(x_train, y_train, epochs=10, batch_size=250, verbose=1, validation_split=0.2)\n",
        "  # Test the model after training\n",
        "  train_restul3 = model3.evaluate(x_train, y_train, verbose=0)\n",
        "  print(f'Train results - Loss: {train_restul3[0]} - Accuracy: {train_restul3[1]}%')\n",
        "\n",
        "  # Test the model after training\n",
        "  test_restul3 = model3.evaluate(x_test, y_test, verbose=0)\n",
        "  print(f'Test results - Loss: {test_restul3[0]} - Accuracy: {test_restul3[1]}%')\n",
        "  score3.append(train_restul3[1])\n",
        "  score3_test.append(test_restul3[1])"
      ],
      "metadata": {
        "id": "g3KBPx4VevVJ"
      },
      "execution_count": null,
      "outputs": []
    },
    {
      "cell_type": "code",
      "source": [
        "df['model 3'] = score3"
      ],
      "metadata": {
        "id": "GGuA0AOBPsFT"
      },
      "execution_count": 367,
      "outputs": []
    },
    {
      "cell_type": "code",
      "source": [
        "score_collection_test.append(sum(score3_test)/len(score3_test))"
      ],
      "metadata": {
        "id": "QqqZt9CNjNZF"
      },
      "execution_count": 368,
      "outputs": []
    },
    {
      "cell_type": "code",
      "source": [
        "df"
      ],
      "metadata": {
        "colab": {
          "base_uri": "https://localhost:8080/",
          "height": 206
        },
        "id": "623YRpykxDKh",
        "outputId": "c8a0f65f-04bd-459a-e01a-6e0df205d4db"
      },
      "execution_count": 341,
      "outputs": [
        {
          "output_type": "execute_result",
          "data": {
            "text/plain": [
              "          0   model 2   model 3\n",
              "0  0.976607  0.988446  0.959857\n",
              "1  0.973839  0.988750  0.962482\n",
              "2  0.976161  0.987321  0.961232\n",
              "3  0.974554  0.990071  0.963857\n",
              "4  0.966161  0.988143  0.957179"
            ],
            "text/html": [
              "\n",
              "  <div id=\"df-a57b4fb2-0ba8-49f0-b395-8370b0322340\">\n",
              "    <div class=\"colab-df-container\">\n",
              "      <div>\n",
              "<style scoped>\n",
              "    .dataframe tbody tr th:only-of-type {\n",
              "        vertical-align: middle;\n",
              "    }\n",
              "\n",
              "    .dataframe tbody tr th {\n",
              "        vertical-align: top;\n",
              "    }\n",
              "\n",
              "    .dataframe thead th {\n",
              "        text-align: right;\n",
              "    }\n",
              "</style>\n",
              "<table border=\"1\" class=\"dataframe\">\n",
              "  <thead>\n",
              "    <tr style=\"text-align: right;\">\n",
              "      <th></th>\n",
              "      <th>0</th>\n",
              "      <th>model 2</th>\n",
              "      <th>model 3</th>\n",
              "    </tr>\n",
              "  </thead>\n",
              "  <tbody>\n",
              "    <tr>\n",
              "      <th>0</th>\n",
              "      <td>0.976607</td>\n",
              "      <td>0.988446</td>\n",
              "      <td>0.959857</td>\n",
              "    </tr>\n",
              "    <tr>\n",
              "      <th>1</th>\n",
              "      <td>0.973839</td>\n",
              "      <td>0.988750</td>\n",
              "      <td>0.962482</td>\n",
              "    </tr>\n",
              "    <tr>\n",
              "      <th>2</th>\n",
              "      <td>0.976161</td>\n",
              "      <td>0.987321</td>\n",
              "      <td>0.961232</td>\n",
              "    </tr>\n",
              "    <tr>\n",
              "      <th>3</th>\n",
              "      <td>0.974554</td>\n",
              "      <td>0.990071</td>\n",
              "      <td>0.963857</td>\n",
              "    </tr>\n",
              "    <tr>\n",
              "      <th>4</th>\n",
              "      <td>0.966161</td>\n",
              "      <td>0.988143</td>\n",
              "      <td>0.957179</td>\n",
              "    </tr>\n",
              "  </tbody>\n",
              "</table>\n",
              "</div>\n",
              "      <button class=\"colab-df-convert\" onclick=\"convertToInteractive('df-a57b4fb2-0ba8-49f0-b395-8370b0322340')\"\n",
              "              title=\"Convert this dataframe to an interactive table.\"\n",
              "              style=\"display:none;\">\n",
              "        \n",
              "  <svg xmlns=\"http://www.w3.org/2000/svg\" height=\"24px\"viewBox=\"0 0 24 24\"\n",
              "       width=\"24px\">\n",
              "    <path d=\"M0 0h24v24H0V0z\" fill=\"none\"/>\n",
              "    <path d=\"M18.56 5.44l.94 2.06.94-2.06 2.06-.94-2.06-.94-.94-2.06-.94 2.06-2.06.94zm-11 1L8.5 8.5l.94-2.06 2.06-.94-2.06-.94L8.5 2.5l-.94 2.06-2.06.94zm10 10l.94 2.06.94-2.06 2.06-.94-2.06-.94-.94-2.06-.94 2.06-2.06.94z\"/><path d=\"M17.41 7.96l-1.37-1.37c-.4-.4-.92-.59-1.43-.59-.52 0-1.04.2-1.43.59L10.3 9.45l-7.72 7.72c-.78.78-.78 2.05 0 2.83L4 21.41c.39.39.9.59 1.41.59.51 0 1.02-.2 1.41-.59l7.78-7.78 2.81-2.81c.8-.78.8-2.07 0-2.86zM5.41 20L4 18.59l7.72-7.72 1.47 1.35L5.41 20z\"/>\n",
              "  </svg>\n",
              "      </button>\n",
              "      \n",
              "  <style>\n",
              "    .colab-df-container {\n",
              "      display:flex;\n",
              "      flex-wrap:wrap;\n",
              "      gap: 12px;\n",
              "    }\n",
              "\n",
              "    .colab-df-convert {\n",
              "      background-color: #E8F0FE;\n",
              "      border: none;\n",
              "      border-radius: 50%;\n",
              "      cursor: pointer;\n",
              "      display: none;\n",
              "      fill: #1967D2;\n",
              "      height: 32px;\n",
              "      padding: 0 0 0 0;\n",
              "      width: 32px;\n",
              "    }\n",
              "\n",
              "    .colab-df-convert:hover {\n",
              "      background-color: #E2EBFA;\n",
              "      box-shadow: 0px 1px 2px rgba(60, 64, 67, 0.3), 0px 1px 3px 1px rgba(60, 64, 67, 0.15);\n",
              "      fill: #174EA6;\n",
              "    }\n",
              "\n",
              "    [theme=dark] .colab-df-convert {\n",
              "      background-color: #3B4455;\n",
              "      fill: #D2E3FC;\n",
              "    }\n",
              "\n",
              "    [theme=dark] .colab-df-convert:hover {\n",
              "      background-color: #434B5C;\n",
              "      box-shadow: 0px 1px 3px 1px rgba(0, 0, 0, 0.15);\n",
              "      filter: drop-shadow(0px 1px 2px rgba(0, 0, 0, 0.3));\n",
              "      fill: #FFFFFF;\n",
              "    }\n",
              "  </style>\n",
              "\n",
              "      <script>\n",
              "        const buttonEl =\n",
              "          document.querySelector('#df-a57b4fb2-0ba8-49f0-b395-8370b0322340 button.colab-df-convert');\n",
              "        buttonEl.style.display =\n",
              "          google.colab.kernel.accessAllowed ? 'block' : 'none';\n",
              "\n",
              "        async function convertToInteractive(key) {\n",
              "          const element = document.querySelector('#df-a57b4fb2-0ba8-49f0-b395-8370b0322340');\n",
              "          const dataTable =\n",
              "            await google.colab.kernel.invokeFunction('convertToInteractive',\n",
              "                                                     [key], {});\n",
              "          if (!dataTable) return;\n",
              "\n",
              "          const docLinkHtml = 'Like what you see? Visit the ' +\n",
              "            '<a target=\"_blank\" href=https://colab.research.google.com/notebooks/data_table.ipynb>data table notebook</a>'\n",
              "            + ' to learn more about interactive tables.';\n",
              "          element.innerHTML = '';\n",
              "          dataTable['output_type'] = 'display_data';\n",
              "          await google.colab.output.renderOutput(dataTable, element);\n",
              "          const docLink = document.createElement('div');\n",
              "          docLink.innerHTML = docLinkHtml;\n",
              "          element.appendChild(docLink);\n",
              "        }\n",
              "      </script>\n",
              "    </div>\n",
              "  </div>\n",
              "  "
            ]
          },
          "metadata": {},
          "execution_count": 341
        }
      ]
    },
    {
      "cell_type": "markdown",
      "source": [
        "##Model 4\n",
        "\n",
        "\n"
      ],
      "metadata": {
        "id": "2uI4uCngYvQZ"
      }
    },
    {
      "cell_type": "code",
      "source": [
        "score4 = []\n",
        "score4_test = []\n",
        "\n",
        "for train, test in kfold.split(inputs, targets):\n",
        "  model4 = Sequential()\n",
        "  model4.add(layers.Dense(32, input_shape=(num_features,),activation='relu'))\n",
        "  model4.add(layers.Dense(16, activation='relu'))\n",
        "  model4.add(layers.Dense(10, activation=\"softmax\"))\n",
        "  model4.summary()\n",
        "  model4.compile(loss='categorical_crossentropy', optimizer='adam', metrics=['accuracy'])\n",
        "  model4.fit(x_train, y_train, epochs=10, batch_size=250, verbose=1, validation_split=0.2)\n",
        "  # Test the model after training\n",
        "  train_restul4 = model4.evaluate(x_train, y_train, verbose=0)\n",
        "  print(f'Train results - Loss: {train_restul4[0]} - Accuracy: {train_restul4[1]}%')\n",
        "\n",
        "  # Test the model after training\n",
        "  test_restul4 = model4.evaluate(x_test, y_test, verbose=0)\n",
        "  print(f'Test results - Loss: {test_restul4[0]} - Accuracy: {test_restul4[1]}%')\n",
        "  score4.append(train_restul4[1])\n",
        "  score4_test.append(test_restul4[1])"
      ],
      "metadata": {
        "colab": {
          "base_uri": "https://localhost:8080/",
          "height": 0
        },
        "id": "tPWS3NIBe_Uy",
        "outputId": "34da8287-fe30-4539-ccf9-f2f0b06e6950"
      },
      "execution_count": 369,
      "outputs": [
        {
          "output_type": "stream",
          "name": "stdout",
          "text": [
            "Model: \"sequential_187\"\n",
            "_________________________________________________________________\n",
            " Layer (type)                Output Shape              Param #   \n",
            "=================================================================\n",
            " dense_715 (Dense)           (None, 32)                25120     \n",
            "                                                                 \n",
            " dense_716 (Dense)           (None, 16)                528       \n",
            "                                                                 \n",
            " dense_717 (Dense)           (None, 10)                170       \n",
            "                                                                 \n",
            "=================================================================\n",
            "Total params: 25,818\n",
            "Trainable params: 25,818\n",
            "Non-trainable params: 0\n",
            "_________________________________________________________________\n",
            "Epoch 1/10\n",
            "180/180 [==============================] - 2s 7ms/step - loss: 0.8352 - accuracy: 0.7676 - val_loss: 0.3792 - val_accuracy: 0.8950\n",
            "Epoch 2/10\n",
            "180/180 [==============================] - 1s 7ms/step - loss: 0.3138 - accuracy: 0.9115 - val_loss: 0.2829 - val_accuracy: 0.9208\n",
            "Epoch 3/10\n",
            "180/180 [==============================] - 1s 7ms/step - loss: 0.2473 - accuracy: 0.9300 - val_loss: 0.2354 - val_accuracy: 0.9338\n",
            "Epoch 4/10\n",
            "180/180 [==============================] - 1s 7ms/step - loss: 0.2108 - accuracy: 0.9398 - val_loss: 0.2115 - val_accuracy: 0.9397\n",
            "Epoch 5/10\n",
            "180/180 [==============================] - 1s 8ms/step - loss: 0.1863 - accuracy: 0.9463 - val_loss: 0.1970 - val_accuracy: 0.9422\n",
            "Epoch 6/10\n",
            "180/180 [==============================] - 1s 6ms/step - loss: 0.1660 - accuracy: 0.9525 - val_loss: 0.1863 - val_accuracy: 0.9455\n",
            "Epoch 7/10\n",
            "180/180 [==============================] - 1s 6ms/step - loss: 0.1517 - accuracy: 0.9563 - val_loss: 0.1688 - val_accuracy: 0.9504\n",
            "Epoch 8/10\n",
            "180/180 [==============================] - 1s 6ms/step - loss: 0.1383 - accuracy: 0.9599 - val_loss: 0.1597 - val_accuracy: 0.9528\n",
            "Epoch 9/10\n",
            "180/180 [==============================] - 1s 6ms/step - loss: 0.1272 - accuracy: 0.9625 - val_loss: 0.1550 - val_accuracy: 0.9539\n",
            "Epoch 10/10\n",
            "180/180 [==============================] - 1s 6ms/step - loss: 0.1170 - accuracy: 0.9665 - val_loss: 0.1495 - val_accuracy: 0.9560\n",
            "Train results - Loss: 0.11563603579998016 - Accuracy: 0.9665535688400269%\n",
            "Test results - Loss: 0.14436881244182587 - Accuracy: 0.956928551197052%\n",
            "Model: \"sequential_188\"\n",
            "_________________________________________________________________\n",
            " Layer (type)                Output Shape              Param #   \n",
            "=================================================================\n",
            " dense_718 (Dense)           (None, 32)                25120     \n",
            "                                                                 \n",
            " dense_719 (Dense)           (None, 16)                528       \n",
            "                                                                 \n",
            " dense_720 (Dense)           (None, 10)                170       \n",
            "                                                                 \n",
            "=================================================================\n",
            "Total params: 25,818\n",
            "Trainable params: 25,818\n",
            "Non-trainable params: 0\n",
            "_________________________________________________________________\n",
            "Epoch 1/10\n",
            "180/180 [==============================] - 2s 8ms/step - loss: 0.8473 - accuracy: 0.7600 - val_loss: 0.3571 - val_accuracy: 0.9010\n",
            "Epoch 2/10\n",
            "180/180 [==============================] - 1s 6ms/step - loss: 0.3016 - accuracy: 0.9162 - val_loss: 0.2710 - val_accuracy: 0.9259\n",
            "Epoch 3/10\n",
            "180/180 [==============================] - 1s 5ms/step - loss: 0.2415 - accuracy: 0.9318 - val_loss: 0.2344 - val_accuracy: 0.9347\n",
            "Epoch 4/10\n",
            "180/180 [==============================] - 1s 6ms/step - loss: 0.2044 - accuracy: 0.9418 - val_loss: 0.2073 - val_accuracy: 0.9409\n",
            "Epoch 5/10\n",
            "180/180 [==============================] - 1s 6ms/step - loss: 0.1790 - accuracy: 0.9490 - val_loss: 0.1977 - val_accuracy: 0.9422\n",
            "Epoch 6/10\n",
            "180/180 [==============================] - 1s 7ms/step - loss: 0.1600 - accuracy: 0.9541 - val_loss: 0.1822 - val_accuracy: 0.9471\n",
            "Epoch 7/10\n",
            "180/180 [==============================] - 1s 7ms/step - loss: 0.1435 - accuracy: 0.9585 - val_loss: 0.1684 - val_accuracy: 0.9513\n",
            "Epoch 8/10\n",
            "180/180 [==============================] - 1s 5ms/step - loss: 0.1318 - accuracy: 0.9624 - val_loss: 0.1609 - val_accuracy: 0.9516\n",
            "Epoch 9/10\n",
            "180/180 [==============================] - 1s 6ms/step - loss: 0.1223 - accuracy: 0.9651 - val_loss: 0.1567 - val_accuracy: 0.9540\n",
            "Epoch 10/10\n",
            "180/180 [==============================] - 1s 6ms/step - loss: 0.1132 - accuracy: 0.9669 - val_loss: 0.1561 - val_accuracy: 0.9530\n",
            "Train results - Loss: 0.11755961179733276 - Accuracy: 0.9652678370475769%\n",
            "Test results - Loss: 0.15181048214435577 - Accuracy: 0.9568571448326111%\n",
            "Model: \"sequential_189\"\n",
            "_________________________________________________________________\n",
            " Layer (type)                Output Shape              Param #   \n",
            "=================================================================\n",
            " dense_721 (Dense)           (None, 32)                25120     \n",
            "                                                                 \n",
            " dense_722 (Dense)           (None, 16)                528       \n",
            "                                                                 \n",
            " dense_723 (Dense)           (None, 10)                170       \n",
            "                                                                 \n",
            "=================================================================\n",
            "Total params: 25,818\n",
            "Trainable params: 25,818\n",
            "Non-trainable params: 0\n",
            "_________________________________________________________________\n",
            "Epoch 1/10\n",
            "180/180 [==============================] - 2s 6ms/step - loss: 0.8612 - accuracy: 0.7730 - val_loss: 0.3834 - val_accuracy: 0.8922\n",
            "Epoch 2/10\n",
            "180/180 [==============================] - 1s 8ms/step - loss: 0.3180 - accuracy: 0.9107 - val_loss: 0.2801 - val_accuracy: 0.9199\n",
            "Epoch 3/10\n",
            "180/180 [==============================] - 1s 7ms/step - loss: 0.2497 - accuracy: 0.9285 - val_loss: 0.2461 - val_accuracy: 0.9275\n",
            "Epoch 4/10\n",
            "180/180 [==============================] - 1s 5ms/step - loss: 0.2145 - accuracy: 0.9391 - val_loss: 0.2263 - val_accuracy: 0.9315\n",
            "Epoch 5/10\n",
            "180/180 [==============================] - 1s 5ms/step - loss: 0.1899 - accuracy: 0.9450 - val_loss: 0.1994 - val_accuracy: 0.9400\n",
            "Epoch 6/10\n",
            "180/180 [==============================] - 1s 6ms/step - loss: 0.1711 - accuracy: 0.9500 - val_loss: 0.1894 - val_accuracy: 0.9418\n",
            "Epoch 7/10\n",
            "180/180 [==============================] - 1s 6ms/step - loss: 0.1572 - accuracy: 0.9540 - val_loss: 0.1813 - val_accuracy: 0.9435\n",
            "Epoch 8/10\n",
            "180/180 [==============================] - 1s 6ms/step - loss: 0.1441 - accuracy: 0.9585 - val_loss: 0.1750 - val_accuracy: 0.9473\n",
            "Epoch 9/10\n",
            "180/180 [==============================] - 1s 5ms/step - loss: 0.1345 - accuracy: 0.9600 - val_loss: 0.1675 - val_accuracy: 0.9477\n",
            "Epoch 10/10\n",
            "180/180 [==============================] - 1s 6ms/step - loss: 0.1253 - accuracy: 0.9633 - val_loss: 0.1613 - val_accuracy: 0.9504\n",
            "Train results - Loss: 0.12299120426177979 - Accuracy: 0.9633035659790039%\n",
            "Test results - Loss: 0.15249325335025787 - Accuracy: 0.9565714001655579%\n",
            "Model: \"sequential_190\"\n",
            "_________________________________________________________________\n",
            " Layer (type)                Output Shape              Param #   \n",
            "=================================================================\n",
            " dense_724 (Dense)           (None, 32)                25120     \n",
            "                                                                 \n",
            " dense_725 (Dense)           (None, 16)                528       \n",
            "                                                                 \n",
            " dense_726 (Dense)           (None, 10)                170       \n",
            "                                                                 \n",
            "=================================================================\n",
            "Total params: 25,818\n",
            "Trainable params: 25,818\n",
            "Non-trainable params: 0\n",
            "_________________________________________________________________\n",
            "Epoch 1/10\n",
            "180/180 [==============================] - 2s 7ms/step - loss: 0.9481 - accuracy: 0.7195 - val_loss: 0.3820 - val_accuracy: 0.8921\n",
            "Epoch 2/10\n",
            "180/180 [==============================] - 1s 6ms/step - loss: 0.3147 - accuracy: 0.9127 - val_loss: 0.2832 - val_accuracy: 0.9196\n",
            "Epoch 3/10\n",
            "180/180 [==============================] - 1s 5ms/step - loss: 0.2493 - accuracy: 0.9286 - val_loss: 0.2412 - val_accuracy: 0.9295\n",
            "Epoch 4/10\n",
            "180/180 [==============================] - 1s 5ms/step - loss: 0.2157 - accuracy: 0.9380 - val_loss: 0.2175 - val_accuracy: 0.9347\n",
            "Epoch 5/10\n",
            "180/180 [==============================] - 1s 5ms/step - loss: 0.1940 - accuracy: 0.9441 - val_loss: 0.2017 - val_accuracy: 0.9397\n",
            "Epoch 6/10\n",
            "180/180 [==============================] - 1s 6ms/step - loss: 0.1763 - accuracy: 0.9493 - val_loss: 0.1915 - val_accuracy: 0.9425\n",
            "Epoch 7/10\n",
            "180/180 [==============================] - 1s 6ms/step - loss: 0.1619 - accuracy: 0.9531 - val_loss: 0.1852 - val_accuracy: 0.9436\n",
            "Epoch 8/10\n",
            "180/180 [==============================] - 1s 6ms/step - loss: 0.1503 - accuracy: 0.9563 - val_loss: 0.1736 - val_accuracy: 0.9464\n",
            "Epoch 9/10\n",
            "180/180 [==============================] - 1s 7ms/step - loss: 0.1401 - accuracy: 0.9591 - val_loss: 0.1692 - val_accuracy: 0.9487\n",
            "Epoch 10/10\n",
            "180/180 [==============================] - 1s 7ms/step - loss: 0.1315 - accuracy: 0.9609 - val_loss: 0.1596 - val_accuracy: 0.9511\n",
            "Train results - Loss: 0.12807130813598633 - Accuracy: 0.962196409702301%\n",
            "Test results - Loss: 0.16001199185848236 - Accuracy: 0.9526428580284119%\n",
            "Model: \"sequential_191\"\n",
            "_________________________________________________________________\n",
            " Layer (type)                Output Shape              Param #   \n",
            "=================================================================\n",
            " dense_727 (Dense)           (None, 32)                25120     \n",
            "                                                                 \n",
            " dense_728 (Dense)           (None, 16)                528       \n",
            "                                                                 \n",
            " dense_729 (Dense)           (None, 10)                170       \n",
            "                                                                 \n",
            "=================================================================\n",
            "Total params: 25,818\n",
            "Trainable params: 25,818\n",
            "Non-trainable params: 0\n",
            "_________________________________________________________________\n",
            "Epoch 1/10\n",
            "180/180 [==============================] - 2s 6ms/step - loss: 0.9688 - accuracy: 0.7266 - val_loss: 0.4000 - val_accuracy: 0.8920\n",
            "Epoch 2/10\n",
            "180/180 [==============================] - 1s 7ms/step - loss: 0.3338 - accuracy: 0.9073 - val_loss: 0.2965 - val_accuracy: 0.9164\n",
            "Epoch 3/10\n",
            "180/180 [==============================] - 1s 7ms/step - loss: 0.2630 - accuracy: 0.9267 - val_loss: 0.2524 - val_accuracy: 0.9297\n",
            "Epoch 4/10\n",
            "180/180 [==============================] - 1s 6ms/step - loss: 0.2255 - accuracy: 0.9366 - val_loss: 0.2303 - val_accuracy: 0.9337\n",
            "Epoch 5/10\n",
            "180/180 [==============================] - 1s 5ms/step - loss: 0.1998 - accuracy: 0.9432 - val_loss: 0.2075 - val_accuracy: 0.9385\n",
            "Epoch 6/10\n",
            "180/180 [==============================] - 1s 6ms/step - loss: 0.1807 - accuracy: 0.9492 - val_loss: 0.1927 - val_accuracy: 0.9426\n",
            "Epoch 7/10\n",
            "180/180 [==============================] - 1s 7ms/step - loss: 0.1661 - accuracy: 0.9528 - val_loss: 0.1971 - val_accuracy: 0.9408\n",
            "Epoch 8/10\n",
            "180/180 [==============================] - 1s 7ms/step - loss: 0.1527 - accuracy: 0.9565 - val_loss: 0.1779 - val_accuracy: 0.9463\n",
            "Epoch 9/10\n",
            "180/180 [==============================] - 1s 6ms/step - loss: 0.1427 - accuracy: 0.9597 - val_loss: 0.1698 - val_accuracy: 0.9493\n",
            "Epoch 10/10\n",
            "180/180 [==============================] - 1s 7ms/step - loss: 0.1354 - accuracy: 0.9610 - val_loss: 0.1661 - val_accuracy: 0.9513\n",
            "Train results - Loss: 0.1331169456243515 - Accuracy: 0.962321400642395%\n",
            "Test results - Loss: 0.16030579805374146 - Accuracy: 0.9540714025497437%\n"
          ]
        }
      ]
    },
    {
      "cell_type": "code",
      "source": [
        "score_collection_test.append(sum(score4_test)/len(score4_test))"
      ],
      "metadata": {
        "id": "F_XTJxD-kB0k"
      },
      "execution_count": 370,
      "outputs": []
    },
    {
      "cell_type": "code",
      "source": [
        "df['model 4'] = score4"
      ],
      "metadata": {
        "id": "VzlfNsR2Qiez"
      },
      "execution_count": 371,
      "outputs": []
    },
    {
      "cell_type": "code",
      "source": [
        "df"
      ],
      "metadata": {
        "colab": {
          "base_uri": "https://localhost:8080/",
          "height": 206
        },
        "id": "m5WLQ0mBIngj",
        "outputId": "44f59bef-3477-4687-eac1-1092b6907e5d"
      },
      "execution_count": 372,
      "outputs": [
        {
          "output_type": "execute_result",
          "data": {
            "text/plain": [
              "    model 1   model 2   model 3   model 4   model 5   model 6\n",
              "0  0.976607  0.988446  0.961911  0.966554  0.990125  0.993107\n",
              "1  0.973839  0.988750  0.961429  0.965268  0.988268  0.989643\n",
              "2  0.976161  0.987321  0.963571  0.963304  0.987429  0.991982\n",
              "3  0.974554  0.990071  0.957089  0.962196  0.985179  0.993107\n",
              "4  0.966161  0.988143  0.963589  0.962321  0.988411  0.994643"
            ],
            "text/html": [
              "\n",
              "  <div id=\"df-e2ad079a-d237-4245-8e83-40c6894c3526\">\n",
              "    <div class=\"colab-df-container\">\n",
              "      <div>\n",
              "<style scoped>\n",
              "    .dataframe tbody tr th:only-of-type {\n",
              "        vertical-align: middle;\n",
              "    }\n",
              "\n",
              "    .dataframe tbody tr th {\n",
              "        vertical-align: top;\n",
              "    }\n",
              "\n",
              "    .dataframe thead th {\n",
              "        text-align: right;\n",
              "    }\n",
              "</style>\n",
              "<table border=\"1\" class=\"dataframe\">\n",
              "  <thead>\n",
              "    <tr style=\"text-align: right;\">\n",
              "      <th></th>\n",
              "      <th>model 1</th>\n",
              "      <th>model 2</th>\n",
              "      <th>model 3</th>\n",
              "      <th>model 4</th>\n",
              "      <th>model 5</th>\n",
              "      <th>model 6</th>\n",
              "    </tr>\n",
              "  </thead>\n",
              "  <tbody>\n",
              "    <tr>\n",
              "      <th>0</th>\n",
              "      <td>0.976607</td>\n",
              "      <td>0.988446</td>\n",
              "      <td>0.961911</td>\n",
              "      <td>0.966554</td>\n",
              "      <td>0.990125</td>\n",
              "      <td>0.993107</td>\n",
              "    </tr>\n",
              "    <tr>\n",
              "      <th>1</th>\n",
              "      <td>0.973839</td>\n",
              "      <td>0.988750</td>\n",
              "      <td>0.961429</td>\n",
              "      <td>0.965268</td>\n",
              "      <td>0.988268</td>\n",
              "      <td>0.989643</td>\n",
              "    </tr>\n",
              "    <tr>\n",
              "      <th>2</th>\n",
              "      <td>0.976161</td>\n",
              "      <td>0.987321</td>\n",
              "      <td>0.963571</td>\n",
              "      <td>0.963304</td>\n",
              "      <td>0.987429</td>\n",
              "      <td>0.991982</td>\n",
              "    </tr>\n",
              "    <tr>\n",
              "      <th>3</th>\n",
              "      <td>0.974554</td>\n",
              "      <td>0.990071</td>\n",
              "      <td>0.957089</td>\n",
              "      <td>0.962196</td>\n",
              "      <td>0.985179</td>\n",
              "      <td>0.993107</td>\n",
              "    </tr>\n",
              "    <tr>\n",
              "      <th>4</th>\n",
              "      <td>0.966161</td>\n",
              "      <td>0.988143</td>\n",
              "      <td>0.963589</td>\n",
              "      <td>0.962321</td>\n",
              "      <td>0.988411</td>\n",
              "      <td>0.994643</td>\n",
              "    </tr>\n",
              "  </tbody>\n",
              "</table>\n",
              "</div>\n",
              "      <button class=\"colab-df-convert\" onclick=\"convertToInteractive('df-e2ad079a-d237-4245-8e83-40c6894c3526')\"\n",
              "              title=\"Convert this dataframe to an interactive table.\"\n",
              "              style=\"display:none;\">\n",
              "        \n",
              "  <svg xmlns=\"http://www.w3.org/2000/svg\" height=\"24px\"viewBox=\"0 0 24 24\"\n",
              "       width=\"24px\">\n",
              "    <path d=\"M0 0h24v24H0V0z\" fill=\"none\"/>\n",
              "    <path d=\"M18.56 5.44l.94 2.06.94-2.06 2.06-.94-2.06-.94-.94-2.06-.94 2.06-2.06.94zm-11 1L8.5 8.5l.94-2.06 2.06-.94-2.06-.94L8.5 2.5l-.94 2.06-2.06.94zm10 10l.94 2.06.94-2.06 2.06-.94-2.06-.94-.94-2.06-.94 2.06-2.06.94z\"/><path d=\"M17.41 7.96l-1.37-1.37c-.4-.4-.92-.59-1.43-.59-.52 0-1.04.2-1.43.59L10.3 9.45l-7.72 7.72c-.78.78-.78 2.05 0 2.83L4 21.41c.39.39.9.59 1.41.59.51 0 1.02-.2 1.41-.59l7.78-7.78 2.81-2.81c.8-.78.8-2.07 0-2.86zM5.41 20L4 18.59l7.72-7.72 1.47 1.35L5.41 20z\"/>\n",
              "  </svg>\n",
              "      </button>\n",
              "      \n",
              "  <style>\n",
              "    .colab-df-container {\n",
              "      display:flex;\n",
              "      flex-wrap:wrap;\n",
              "      gap: 12px;\n",
              "    }\n",
              "\n",
              "    .colab-df-convert {\n",
              "      background-color: #E8F0FE;\n",
              "      border: none;\n",
              "      border-radius: 50%;\n",
              "      cursor: pointer;\n",
              "      display: none;\n",
              "      fill: #1967D2;\n",
              "      height: 32px;\n",
              "      padding: 0 0 0 0;\n",
              "      width: 32px;\n",
              "    }\n",
              "\n",
              "    .colab-df-convert:hover {\n",
              "      background-color: #E2EBFA;\n",
              "      box-shadow: 0px 1px 2px rgba(60, 64, 67, 0.3), 0px 1px 3px 1px rgba(60, 64, 67, 0.15);\n",
              "      fill: #174EA6;\n",
              "    }\n",
              "\n",
              "    [theme=dark] .colab-df-convert {\n",
              "      background-color: #3B4455;\n",
              "      fill: #D2E3FC;\n",
              "    }\n",
              "\n",
              "    [theme=dark] .colab-df-convert:hover {\n",
              "      background-color: #434B5C;\n",
              "      box-shadow: 0px 1px 3px 1px rgba(0, 0, 0, 0.15);\n",
              "      filter: drop-shadow(0px 1px 2px rgba(0, 0, 0, 0.3));\n",
              "      fill: #FFFFFF;\n",
              "    }\n",
              "  </style>\n",
              "\n",
              "      <script>\n",
              "        const buttonEl =\n",
              "          document.querySelector('#df-e2ad079a-d237-4245-8e83-40c6894c3526 button.colab-df-convert');\n",
              "        buttonEl.style.display =\n",
              "          google.colab.kernel.accessAllowed ? 'block' : 'none';\n",
              "\n",
              "        async function convertToInteractive(key) {\n",
              "          const element = document.querySelector('#df-e2ad079a-d237-4245-8e83-40c6894c3526');\n",
              "          const dataTable =\n",
              "            await google.colab.kernel.invokeFunction('convertToInteractive',\n",
              "                                                     [key], {});\n",
              "          if (!dataTable) return;\n",
              "\n",
              "          const docLinkHtml = 'Like what you see? Visit the ' +\n",
              "            '<a target=\"_blank\" href=https://colab.research.google.com/notebooks/data_table.ipynb>data table notebook</a>'\n",
              "            + ' to learn more about interactive tables.';\n",
              "          element.innerHTML = '';\n",
              "          dataTable['output_type'] = 'display_data';\n",
              "          await google.colab.output.renderOutput(dataTable, element);\n",
              "          const docLink = document.createElement('div');\n",
              "          docLink.innerHTML = docLinkHtml;\n",
              "          element.appendChild(docLink);\n",
              "        }\n",
              "      </script>\n",
              "    </div>\n",
              "  </div>\n",
              "  "
            ]
          },
          "metadata": {},
          "execution_count": 372
        }
      ]
    },
    {
      "cell_type": "markdown",
      "source": [
        "##Model 5"
      ],
      "metadata": {
        "id": "wao9lM_IZXbk"
      }
    },
    {
      "cell_type": "code",
      "source": [
        "score5 = []\n",
        "score5_test = []\n",
        "for train, test in kfold.split(inputs, targets):\n",
        "  model5 = Sequential()\n",
        "  model5.add(layers.Dense(120, input_shape=(num_features,),activation='relu'))\n",
        "  model5.add(layers.Dense(64, activation='relu'))\n",
        "  model5.add(layers.Dense(16, activation='relu'))\n",
        "  model5.add(layers.Dense(10, activation=\"softmax\"))\n",
        "  model5.summary()\n",
        "  model5.compile(loss='categorical_crossentropy', optimizer='adam', metrics=['accuracy'])\n",
        "  model5.fit(x_train, y_train, epochs=10, batch_size=250, verbose=1, validation_split=0.2)\n",
        "  # Test the model after training\n",
        "  train_restul5 = model5.evaluate(x_train, y_train, verbose=0)\n",
        "  print(f'Train results - Loss: {train_restul5[0]} - Accuracy: {train_restul5[1]}%')\n",
        "\n",
        "  # Test the model after training\n",
        "  test_restul5 = model5.evaluate(x_test, y_test, verbose=0)\n",
        "  print(f'Test results - Loss: {test_restul5[0]} - Accuracy: {test_restul5[1]}%')\n",
        "  score5.append(train_restul5[1]) \n",
        "  score5_test.append(test_restul5[1])\n",
        "\n"
      ],
      "metadata": {
        "colab": {
          "base_uri": "https://localhost:8080/",
          "height": 0
        },
        "id": "5XURxLgfZcMK",
        "outputId": "4a8816a7-b718-4b37-b6a0-6aafc1cb3eb1"
      },
      "execution_count": 373,
      "outputs": [
        {
          "output_type": "stream",
          "name": "stdout",
          "text": [
            "Model: \"sequential_192\"\n",
            "_________________________________________________________________\n",
            " Layer (type)                Output Shape              Param #   \n",
            "=================================================================\n",
            " dense_730 (Dense)           (None, 120)               94200     \n",
            "                                                                 \n",
            " dense_731 (Dense)           (None, 64)                7744      \n",
            "                                                                 \n",
            " dense_732 (Dense)           (None, 16)                1040      \n",
            "                                                                 \n",
            " dense_733 (Dense)           (None, 10)                170       \n",
            "                                                                 \n",
            "=================================================================\n",
            "Total params: 103,154\n",
            "Trainable params: 103,154\n",
            "Non-trainable params: 0\n",
            "_________________________________________________________________\n",
            "Epoch 1/10\n",
            "180/180 [==============================] - 2s 10ms/step - loss: 0.6596 - accuracy: 0.8009 - val_loss: 0.2546 - val_accuracy: 0.9290\n",
            "Epoch 2/10\n",
            "180/180 [==============================] - 2s 9ms/step - loss: 0.2063 - accuracy: 0.9406 - val_loss: 0.1779 - val_accuracy: 0.9498\n",
            "Epoch 3/10\n",
            "180/180 [==============================] - 1s 8ms/step - loss: 0.1473 - accuracy: 0.9579 - val_loss: 0.1534 - val_accuracy: 0.9532\n",
            "Epoch 4/10\n",
            "180/180 [==============================] - 1s 8ms/step - loss: 0.1165 - accuracy: 0.9663 - val_loss: 0.1314 - val_accuracy: 0.9619\n",
            "Epoch 5/10\n",
            "180/180 [==============================] - 2s 9ms/step - loss: 0.0944 - accuracy: 0.9720 - val_loss: 0.1177 - val_accuracy: 0.9644\n",
            "Epoch 6/10\n",
            "180/180 [==============================] - 2s 9ms/step - loss: 0.0790 - accuracy: 0.9764 - val_loss: 0.1142 - val_accuracy: 0.9664\n",
            "Epoch 7/10\n",
            "180/180 [==============================] - 2s 9ms/step - loss: 0.0650 - accuracy: 0.9811 - val_loss: 0.1098 - val_accuracy: 0.9674\n",
            "Epoch 8/10\n",
            "180/180 [==============================] - 1s 8ms/step - loss: 0.0538 - accuracy: 0.9839 - val_loss: 0.1033 - val_accuracy: 0.9696\n",
            "Epoch 9/10\n",
            "180/180 [==============================] - 1s 8ms/step - loss: 0.0465 - accuracy: 0.9868 - val_loss: 0.1075 - val_accuracy: 0.9696\n",
            "Epoch 10/10\n",
            "180/180 [==============================] - 1s 8ms/step - loss: 0.0399 - accuracy: 0.9885 - val_loss: 0.1107 - val_accuracy: 0.9696\n",
            "Train results - Loss: 0.04885316640138626 - Accuracy: 0.9862856864929199%\n",
            "Test results - Loss: 0.10795945674180984 - Accuracy: 0.9705714583396912%\n",
            "Model: \"sequential_193\"\n",
            "_________________________________________________________________\n",
            " Layer (type)                Output Shape              Param #   \n",
            "=================================================================\n",
            " dense_734 (Dense)           (None, 120)               94200     \n",
            "                                                                 \n",
            " dense_735 (Dense)           (None, 64)                7744      \n",
            "                                                                 \n",
            " dense_736 (Dense)           (None, 16)                1040      \n",
            "                                                                 \n",
            " dense_737 (Dense)           (None, 10)                170       \n",
            "                                                                 \n",
            "=================================================================\n",
            "Total params: 103,154\n",
            "Trainable params: 103,154\n",
            "Non-trainable params: 0\n",
            "_________________________________________________________________\n",
            "Epoch 1/10\n",
            "180/180 [==============================] - 2s 10ms/step - loss: 0.6060 - accuracy: 0.8228 - val_loss: 0.2714 - val_accuracy: 0.9216\n",
            "Epoch 2/10\n",
            "180/180 [==============================] - 2s 9ms/step - loss: 0.1980 - accuracy: 0.9430 - val_loss: 0.1761 - val_accuracy: 0.9488\n",
            "Epoch 3/10\n",
            "180/180 [==============================] - 1s 8ms/step - loss: 0.1393 - accuracy: 0.9603 - val_loss: 0.1457 - val_accuracy: 0.9569\n",
            "Epoch 4/10\n",
            "180/180 [==============================] - 1s 8ms/step - loss: 0.1086 - accuracy: 0.9686 - val_loss: 0.1262 - val_accuracy: 0.9624\n",
            "Epoch 5/10\n",
            "180/180 [==============================] - 2s 8ms/step - loss: 0.0887 - accuracy: 0.9743 - val_loss: 0.1146 - val_accuracy: 0.9652\n",
            "Epoch 6/10\n",
            "180/180 [==============================] - 2s 10ms/step - loss: 0.0699 - accuracy: 0.9796 - val_loss: 0.1100 - val_accuracy: 0.9673\n",
            "Epoch 7/10\n",
            "180/180 [==============================] - 2s 9ms/step - loss: 0.0593 - accuracy: 0.9823 - val_loss: 0.0995 - val_accuracy: 0.9704\n",
            "Epoch 8/10\n",
            "180/180 [==============================] - 2s 9ms/step - loss: 0.0491 - accuracy: 0.9858 - val_loss: 0.0973 - val_accuracy: 0.9712\n",
            "Epoch 9/10\n",
            "180/180 [==============================] - 2s 9ms/step - loss: 0.0409 - accuracy: 0.9878 - val_loss: 0.1012 - val_accuracy: 0.9722\n",
            "Epoch 10/10\n",
            "180/180 [==============================] - 2s 9ms/step - loss: 0.0365 - accuracy: 0.9890 - val_loss: 0.1052 - val_accuracy: 0.9706\n",
            "Train results - Loss: 0.04835441708564758 - Accuracy: 0.9864285588264465%\n",
            "Test results - Loss: 0.1016419529914856 - Accuracy: 0.971928596496582%\n",
            "Model: \"sequential_194\"\n",
            "_________________________________________________________________\n",
            " Layer (type)                Output Shape              Param #   \n",
            "=================================================================\n",
            " dense_738 (Dense)           (None, 120)               94200     \n",
            "                                                                 \n",
            " dense_739 (Dense)           (None, 64)                7744      \n",
            "                                                                 \n",
            " dense_740 (Dense)           (None, 16)                1040      \n",
            "                                                                 \n",
            " dense_741 (Dense)           (None, 10)                170       \n",
            "                                                                 \n",
            "=================================================================\n",
            "Total params: 103,154\n",
            "Trainable params: 103,154\n",
            "Non-trainable params: 0\n",
            "_________________________________________________________________\n",
            "Epoch 1/10\n",
            "180/180 [==============================] - 2s 9ms/step - loss: 0.6708 - accuracy: 0.7866 - val_loss: 0.2563 - val_accuracy: 0.9246\n",
            "Epoch 2/10\n",
            "180/180 [==============================] - 1s 8ms/step - loss: 0.2054 - accuracy: 0.9415 - val_loss: 0.1793 - val_accuracy: 0.9463\n",
            "Epoch 3/10\n",
            "180/180 [==============================] - 2s 10ms/step - loss: 0.1457 - accuracy: 0.9581 - val_loss: 0.1436 - val_accuracy: 0.9583\n",
            "Epoch 4/10\n",
            "180/180 [==============================] - 2s 8ms/step - loss: 0.1138 - accuracy: 0.9665 - val_loss: 0.1348 - val_accuracy: 0.9580\n",
            "Epoch 5/10\n",
            "180/180 [==============================] - 2s 9ms/step - loss: 0.0929 - accuracy: 0.9726 - val_loss: 0.1215 - val_accuracy: 0.9614\n",
            "Epoch 6/10\n",
            "180/180 [==============================] - 1s 8ms/step - loss: 0.0763 - accuracy: 0.9777 - val_loss: 0.1146 - val_accuracy: 0.9654\n",
            "Epoch 7/10\n",
            "180/180 [==============================] - 2s 8ms/step - loss: 0.0637 - accuracy: 0.9811 - val_loss: 0.1205 - val_accuracy: 0.9614\n",
            "Epoch 8/10\n",
            "180/180 [==============================] - 1s 8ms/step - loss: 0.0551 - accuracy: 0.9833 - val_loss: 0.1023 - val_accuracy: 0.9690\n",
            "Epoch 9/10\n",
            "180/180 [==============================] - 1s 8ms/step - loss: 0.0447 - accuracy: 0.9867 - val_loss: 0.0983 - val_accuracy: 0.9693\n",
            "Epoch 10/10\n",
            "180/180 [==============================] - 1s 8ms/step - loss: 0.0390 - accuracy: 0.9881 - val_loss: 0.1131 - val_accuracy: 0.9669\n",
            "Train results - Loss: 0.0567639023065567 - Accuracy: 0.9831785559654236%\n",
            "Test results - Loss: 0.11489450186491013 - Accuracy: 0.9688571691513062%\n",
            "Model: \"sequential_195\"\n",
            "_________________________________________________________________\n",
            " Layer (type)                Output Shape              Param #   \n",
            "=================================================================\n",
            " dense_742 (Dense)           (None, 120)               94200     \n",
            "                                                                 \n",
            " dense_743 (Dense)           (None, 64)                7744      \n",
            "                                                                 \n",
            " dense_744 (Dense)           (None, 16)                1040      \n",
            "                                                                 \n",
            " dense_745 (Dense)           (None, 10)                170       \n",
            "                                                                 \n",
            "=================================================================\n",
            "Total params: 103,154\n",
            "Trainable params: 103,154\n",
            "Non-trainable params: 0\n",
            "_________________________________________________________________\n",
            "Epoch 1/10\n",
            "180/180 [==============================] - 2s 10ms/step - loss: 0.5531 - accuracy: 0.8374 - val_loss: 0.2517 - val_accuracy: 0.9271\n",
            "Epoch 2/10\n",
            "180/180 [==============================] - 1s 8ms/step - loss: 0.2012 - accuracy: 0.9421 - val_loss: 0.1859 - val_accuracy: 0.9450\n",
            "Epoch 3/10\n",
            "180/180 [==============================] - 1s 8ms/step - loss: 0.1449 - accuracy: 0.9584 - val_loss: 0.1492 - val_accuracy: 0.9566\n",
            "Epoch 4/10\n",
            "180/180 [==============================] - 1s 8ms/step - loss: 0.1153 - accuracy: 0.9665 - val_loss: 0.1269 - val_accuracy: 0.9617\n",
            "Epoch 5/10\n",
            "180/180 [==============================] - 1s 8ms/step - loss: 0.0906 - accuracy: 0.9738 - val_loss: 0.1213 - val_accuracy: 0.9644\n",
            "Epoch 6/10\n",
            "180/180 [==============================] - 1s 8ms/step - loss: 0.0759 - accuracy: 0.9778 - val_loss: 0.1127 - val_accuracy: 0.9651\n",
            "Epoch 7/10\n",
            "180/180 [==============================] - 1s 8ms/step - loss: 0.0638 - accuracy: 0.9810 - val_loss: 0.1112 - val_accuracy: 0.9679\n",
            "Epoch 8/10\n",
            "180/180 [==============================] - 2s 11ms/step - loss: 0.0548 - accuracy: 0.9835 - val_loss: 0.1035 - val_accuracy: 0.9711\n",
            "Epoch 9/10\n",
            "180/180 [==============================] - 2s 13ms/step - loss: 0.0437 - accuracy: 0.9874 - val_loss: 0.0943 - val_accuracy: 0.9713\n",
            "Epoch 10/10\n",
            "180/180 [==============================] - 2s 11ms/step - loss: 0.0372 - accuracy: 0.9894 - val_loss: 0.1132 - val_accuracy: 0.9678\n",
            "Train results - Loss: 0.05277484282851219 - Accuracy: 0.9845714569091797%\n",
            "Test results - Loss: 0.11296011507511139 - Accuracy: 0.9692857265472412%\n",
            "Model: \"sequential_196\"\n",
            "_________________________________________________________________\n",
            " Layer (type)                Output Shape              Param #   \n",
            "=================================================================\n",
            " dense_746 (Dense)           (None, 120)               94200     \n",
            "                                                                 \n",
            " dense_747 (Dense)           (None, 64)                7744      \n",
            "                                                                 \n",
            " dense_748 (Dense)           (None, 16)                1040      \n",
            "                                                                 \n",
            " dense_749 (Dense)           (None, 10)                170       \n",
            "                                                                 \n",
            "=================================================================\n",
            "Total params: 103,154\n",
            "Trainable params: 103,154\n",
            "Non-trainable params: 0\n",
            "_________________________________________________________________\n",
            "Epoch 1/10\n",
            "180/180 [==============================] - 2s 9ms/step - loss: 0.6123 - accuracy: 0.8203 - val_loss: 0.2644 - val_accuracy: 0.9229\n",
            "Epoch 2/10\n",
            "180/180 [==============================] - 1s 8ms/step - loss: 0.2067 - accuracy: 0.9401 - val_loss: 0.1842 - val_accuracy: 0.9470\n",
            "Epoch 3/10\n",
            "180/180 [==============================] - 2s 9ms/step - loss: 0.1453 - accuracy: 0.9573 - val_loss: 0.1553 - val_accuracy: 0.9542\n",
            "Epoch 4/10\n",
            "180/180 [==============================] - 2s 9ms/step - loss: 0.1147 - accuracy: 0.9656 - val_loss: 0.1262 - val_accuracy: 0.9629\n",
            "Epoch 5/10\n",
            "180/180 [==============================] - 1s 8ms/step - loss: 0.0884 - accuracy: 0.9744 - val_loss: 0.1277 - val_accuracy: 0.9617\n",
            "Epoch 6/10\n",
            "180/180 [==============================] - 1s 8ms/step - loss: 0.0719 - accuracy: 0.9788 - val_loss: 0.1142 - val_accuracy: 0.9655\n",
            "Epoch 7/10\n",
            "180/180 [==============================] - 2s 9ms/step - loss: 0.0603 - accuracy: 0.9820 - val_loss: 0.1053 - val_accuracy: 0.9678\n",
            "Epoch 8/10\n",
            "180/180 [==============================] - 1s 8ms/step - loss: 0.0511 - accuracy: 0.9848 - val_loss: 0.1038 - val_accuracy: 0.9671\n",
            "Epoch 9/10\n",
            "180/180 [==============================] - 1s 8ms/step - loss: 0.0429 - accuracy: 0.9872 - val_loss: 0.0994 - val_accuracy: 0.9712\n",
            "Epoch 10/10\n",
            "180/180 [==============================] - 1s 8ms/step - loss: 0.0388 - accuracy: 0.9879 - val_loss: 0.1064 - val_accuracy: 0.9690\n",
            "Train results - Loss: 0.0451141819357872 - Accuracy: 0.9865893125534058%\n",
            "Test results - Loss: 0.10947836190462112 - Accuracy: 0.9704999923706055%\n"
          ]
        }
      ]
    },
    {
      "cell_type": "code",
      "source": [
        "df['model 5'] = score5"
      ],
      "metadata": {
        "id": "ddcW4wJ121KA"
      },
      "execution_count": 374,
      "outputs": []
    },
    {
      "cell_type": "code",
      "source": [
        "score_collection_test.append(sum(score5_test)/len(score5_test))"
      ],
      "metadata": {
        "id": "z-Mf1wwX23hx"
      },
      "execution_count": 375,
      "outputs": []
    },
    {
      "cell_type": "markdown",
      "source": [
        "##Model 6"
      ],
      "metadata": {
        "id": "eaOvtUrYaBvG"
      }
    },
    {
      "cell_type": "code",
      "source": [
        "score6=[]\n",
        "score6_test = []\n",
        "for train, test in kfold.split(inputs, targets):\n",
        "  model6 = Sequential()\n",
        "  model6.add(layers.Dense(320, input_shape=(num_features,),activation='relu'))\n",
        "  model6.add(layers.Dense(120, activation='relu'))\n",
        "  model6.add(layers.Dense(32, activation='relu'))\n",
        "  model6.add(layers.Dense(10, activation=\"softmax\"))\n",
        "  model6.summary()\n",
        "  model6.compile(loss='categorical_crossentropy', optimizer='adam', metrics=['accuracy'])\n",
        "  model6.fit(x_train, y_train, epochs=10, batch_size=250, verbose=1, validation_split=0.2)\n",
        "  # Test the model after training\n",
        "  train_restul6 = model6.evaluate(x_train, y_train, verbose=0)\n",
        "  print(f'Train results - Loss: {train_restul6[0]} - Accuracy: {train_restul6[1]}%')\n",
        "  # Test the model after training\n",
        "  test_restul6 = model6.evaluate(x_test, y_test, verbose=0)\n",
        "  print(f'Test results - Loss: {test_restul6[0]} - Accuracy: {test_restul6[1]}%')\n",
        "  score6.append(train_restul6[1])\n",
        "  score6_test.append(test_restul6[1])\n",
        "\n"
      ],
      "metadata": {
        "id": "q7qk1XmCcj6o"
      },
      "execution_count": null,
      "outputs": []
    },
    {
      "cell_type": "code",
      "source": [
        "score_collection_test.append(sum(score6_test)/len(score6_test))"
      ],
      "metadata": {
        "id": "YxCUIBTIlKTY"
      },
      "execution_count": 377,
      "outputs": []
    },
    {
      "cell_type": "code",
      "source": [
        "df['model 6'] = score6"
      ],
      "metadata": {
        "id": "GS2NA32f369p"
      },
      "execution_count": 350,
      "outputs": []
    },
    {
      "cell_type": "code",
      "source": [
        "df = df.rename(columns={0:'model 1'})"
      ],
      "metadata": {
        "id": "CNhUukVo39f3"
      },
      "execution_count": 351,
      "outputs": []
    },
    {
      "cell_type": "code",
      "source": [
        "score_collection_test"
      ],
      "metadata": {
        "colab": {
          "base_uri": "https://localhost:8080/",
          "height": 0
        },
        "id": "g3W9EcpKlfRD",
        "outputId": "ef2c275e-3ca9-4459-fb50-0b2792be0251"
      },
      "execution_count": 381,
      "outputs": [
        {
          "output_type": "execute_result",
          "data": {
            "text/plain": [
              "[0.9292142857142857,\n",
              " 0.9718857169151306,\n",
              " 0.9511714339256286,\n",
              " 0.9554142713546753,\n",
              " 0.9702285885810852,\n",
              " 0.976371431350708]"
            ]
          },
          "metadata": {},
          "execution_count": 381
        }
      ]
    },
    {
      "cell_type": "code",
      "source": [
        "score_collection_backup = score_collection"
      ],
      "metadata": {
        "id": "KqnuKguoAcwP"
      },
      "execution_count": null,
      "outputs": []
    },
    {
      "cell_type": "code",
      "source": [
        "df"
      ],
      "metadata": {
        "colab": {
          "base_uri": "https://localhost:8080/",
          "height": 206
        },
        "id": "FHTJBmpfTsOw",
        "outputId": "3a1c28c5-c721-47dd-80cb-b08d1e325fc1"
      },
      "execution_count": 380,
      "outputs": [
        {
          "output_type": "execute_result",
          "data": {
            "text/plain": [
              "    model 1   model 2   model 3   model 4   model 5   model 6\n",
              "0  0.976607  0.988446  0.961911  0.966554  0.986286  0.993107\n",
              "1  0.973839  0.988750  0.961429  0.965268  0.986429  0.989643\n",
              "2  0.976161  0.987321  0.963571  0.963304  0.983179  0.991982\n",
              "3  0.974554  0.990071  0.957089  0.962196  0.984571  0.993107\n",
              "4  0.966161  0.988143  0.963589  0.962321  0.986589  0.994643"
            ],
            "text/html": [
              "\n",
              "  <div id=\"df-15617d95-4a8e-4808-896c-49e1f7d40138\">\n",
              "    <div class=\"colab-df-container\">\n",
              "      <div>\n",
              "<style scoped>\n",
              "    .dataframe tbody tr th:only-of-type {\n",
              "        vertical-align: middle;\n",
              "    }\n",
              "\n",
              "    .dataframe tbody tr th {\n",
              "        vertical-align: top;\n",
              "    }\n",
              "\n",
              "    .dataframe thead th {\n",
              "        text-align: right;\n",
              "    }\n",
              "</style>\n",
              "<table border=\"1\" class=\"dataframe\">\n",
              "  <thead>\n",
              "    <tr style=\"text-align: right;\">\n",
              "      <th></th>\n",
              "      <th>model 1</th>\n",
              "      <th>model 2</th>\n",
              "      <th>model 3</th>\n",
              "      <th>model 4</th>\n",
              "      <th>model 5</th>\n",
              "      <th>model 6</th>\n",
              "    </tr>\n",
              "  </thead>\n",
              "  <tbody>\n",
              "    <tr>\n",
              "      <th>0</th>\n",
              "      <td>0.976607</td>\n",
              "      <td>0.988446</td>\n",
              "      <td>0.961911</td>\n",
              "      <td>0.966554</td>\n",
              "      <td>0.986286</td>\n",
              "      <td>0.993107</td>\n",
              "    </tr>\n",
              "    <tr>\n",
              "      <th>1</th>\n",
              "      <td>0.973839</td>\n",
              "      <td>0.988750</td>\n",
              "      <td>0.961429</td>\n",
              "      <td>0.965268</td>\n",
              "      <td>0.986429</td>\n",
              "      <td>0.989643</td>\n",
              "    </tr>\n",
              "    <tr>\n",
              "      <th>2</th>\n",
              "      <td>0.976161</td>\n",
              "      <td>0.987321</td>\n",
              "      <td>0.963571</td>\n",
              "      <td>0.963304</td>\n",
              "      <td>0.983179</td>\n",
              "      <td>0.991982</td>\n",
              "    </tr>\n",
              "    <tr>\n",
              "      <th>3</th>\n",
              "      <td>0.974554</td>\n",
              "      <td>0.990071</td>\n",
              "      <td>0.957089</td>\n",
              "      <td>0.962196</td>\n",
              "      <td>0.984571</td>\n",
              "      <td>0.993107</td>\n",
              "    </tr>\n",
              "    <tr>\n",
              "      <th>4</th>\n",
              "      <td>0.966161</td>\n",
              "      <td>0.988143</td>\n",
              "      <td>0.963589</td>\n",
              "      <td>0.962321</td>\n",
              "      <td>0.986589</td>\n",
              "      <td>0.994643</td>\n",
              "    </tr>\n",
              "  </tbody>\n",
              "</table>\n",
              "</div>\n",
              "      <button class=\"colab-df-convert\" onclick=\"convertToInteractive('df-15617d95-4a8e-4808-896c-49e1f7d40138')\"\n",
              "              title=\"Convert this dataframe to an interactive table.\"\n",
              "              style=\"display:none;\">\n",
              "        \n",
              "  <svg xmlns=\"http://www.w3.org/2000/svg\" height=\"24px\"viewBox=\"0 0 24 24\"\n",
              "       width=\"24px\">\n",
              "    <path d=\"M0 0h24v24H0V0z\" fill=\"none\"/>\n",
              "    <path d=\"M18.56 5.44l.94 2.06.94-2.06 2.06-.94-2.06-.94-.94-2.06-.94 2.06-2.06.94zm-11 1L8.5 8.5l.94-2.06 2.06-.94-2.06-.94L8.5 2.5l-.94 2.06-2.06.94zm10 10l.94 2.06.94-2.06 2.06-.94-2.06-.94-.94-2.06-.94 2.06-2.06.94z\"/><path d=\"M17.41 7.96l-1.37-1.37c-.4-.4-.92-.59-1.43-.59-.52 0-1.04.2-1.43.59L10.3 9.45l-7.72 7.72c-.78.78-.78 2.05 0 2.83L4 21.41c.39.39.9.59 1.41.59.51 0 1.02-.2 1.41-.59l7.78-7.78 2.81-2.81c.8-.78.8-2.07 0-2.86zM5.41 20L4 18.59l7.72-7.72 1.47 1.35L5.41 20z\"/>\n",
              "  </svg>\n",
              "      </button>\n",
              "      \n",
              "  <style>\n",
              "    .colab-df-container {\n",
              "      display:flex;\n",
              "      flex-wrap:wrap;\n",
              "      gap: 12px;\n",
              "    }\n",
              "\n",
              "    .colab-df-convert {\n",
              "      background-color: #E8F0FE;\n",
              "      border: none;\n",
              "      border-radius: 50%;\n",
              "      cursor: pointer;\n",
              "      display: none;\n",
              "      fill: #1967D2;\n",
              "      height: 32px;\n",
              "      padding: 0 0 0 0;\n",
              "      width: 32px;\n",
              "    }\n",
              "\n",
              "    .colab-df-convert:hover {\n",
              "      background-color: #E2EBFA;\n",
              "      box-shadow: 0px 1px 2px rgba(60, 64, 67, 0.3), 0px 1px 3px 1px rgba(60, 64, 67, 0.15);\n",
              "      fill: #174EA6;\n",
              "    }\n",
              "\n",
              "    [theme=dark] .colab-df-convert {\n",
              "      background-color: #3B4455;\n",
              "      fill: #D2E3FC;\n",
              "    }\n",
              "\n",
              "    [theme=dark] .colab-df-convert:hover {\n",
              "      background-color: #434B5C;\n",
              "      box-shadow: 0px 1px 3px 1px rgba(0, 0, 0, 0.15);\n",
              "      filter: drop-shadow(0px 1px 2px rgba(0, 0, 0, 0.3));\n",
              "      fill: #FFFFFF;\n",
              "    }\n",
              "  </style>\n",
              "\n",
              "      <script>\n",
              "        const buttonEl =\n",
              "          document.querySelector('#df-15617d95-4a8e-4808-896c-49e1f7d40138 button.colab-df-convert');\n",
              "        buttonEl.style.display =\n",
              "          google.colab.kernel.accessAllowed ? 'block' : 'none';\n",
              "\n",
              "        async function convertToInteractive(key) {\n",
              "          const element = document.querySelector('#df-15617d95-4a8e-4808-896c-49e1f7d40138');\n",
              "          const dataTable =\n",
              "            await google.colab.kernel.invokeFunction('convertToInteractive',\n",
              "                                                     [key], {});\n",
              "          if (!dataTable) return;\n",
              "\n",
              "          const docLinkHtml = 'Like what you see? Visit the ' +\n",
              "            '<a target=\"_blank\" href=https://colab.research.google.com/notebooks/data_table.ipynb>data table notebook</a>'\n",
              "            + ' to learn more about interactive tables.';\n",
              "          element.innerHTML = '';\n",
              "          dataTable['output_type'] = 'display_data';\n",
              "          await google.colab.output.renderOutput(dataTable, element);\n",
              "          const docLink = document.createElement('div');\n",
              "          docLink.innerHTML = docLinkHtml;\n",
              "          element.appendChild(docLink);\n",
              "        }\n",
              "      </script>\n",
              "    </div>\n",
              "  </div>\n",
              "  "
            ]
          },
          "metadata": {},
          "execution_count": 380
        }
      ]
    },
    {
      "cell_type": "code",
      "source": [
        "df.columns"
      ],
      "metadata": {
        "colab": {
          "base_uri": "https://localhost:8080/",
          "height": 0
        },
        "id": "NWPtmBhtToxo",
        "outputId": "a496bef7-4d66-439d-a903-f3361d438a59"
      },
      "execution_count": 379,
      "outputs": [
        {
          "output_type": "execute_result",
          "data": {
            "text/plain": [
              "Index(['model 1', 'model 2', 'model 3', 'model 4', 'model 5', 'model 6'], dtype='object')"
            ]
          },
          "metadata": {},
          "execution_count": 379
        }
      ]
    },
    {
      "cell_type": "code",
      "source": [
        "score_collection_test"
      ],
      "metadata": {
        "colab": {
          "base_uri": "https://localhost:8080/",
          "height": 0
        },
        "id": "SSuQgTdVmxsA",
        "outputId": "ef998ad4-94e1-4800-fb8a-c15142695246"
      },
      "execution_count": 393,
      "outputs": [
        {
          "output_type": "execute_result",
          "data": {
            "text/plain": [
              "[0.9292142857142857,\n",
              " 0.9718857169151306,\n",
              " 0.9511714339256286,\n",
              " 0.9554142713546753,\n",
              " 0.9702285885810852,\n",
              " 0.976371431350708]"
            ]
          },
          "metadata": {},
          "execution_count": 393
        }
      ]
    },
    {
      "cell_type": "code",
      "source": [
        "score_collection_backup"
      ],
      "metadata": {
        "colab": {
          "base_uri": "https://localhost:8080/",
          "height": 0
        },
        "id": "yRR-45TEmxku",
        "outputId": "e28b1a4d-3d3a-42b9-c3b7-deceec52dd9f"
      },
      "execution_count": 394,
      "outputs": [
        {
          "output_type": "execute_result",
          "data": {
            "text/plain": [
              "[0.9496964285714287,\n",
              " 0.9886000037193299,\n",
              " 0.9600464344024658,\n",
              " 0.9639464378356933,\n",
              " 0.9876071333885192,\n",
              " 0.9898714303970337]"
            ]
          },
          "metadata": {},
          "execution_count": 394
        }
      ]
    },
    {
      "cell_type": "code",
      "source": [
        "plt.figure(figsize=(16,10))\n",
        "sns.violinplot(data=df,linewidth = 1)\n",
        "sns.swarmplot(x=df.columns, y=score_collection_backup, marker='x', size=10, linewidth=3, color=\"r\", alpha=1)\n",
        "\n",
        "plt.show()"
      ],
      "metadata": {
        "colab": {
          "base_uri": "https://localhost:8080/",
          "height": 592
        },
        "id": "w_FR1pN9WFDt",
        "outputId": "9b9c5558-0184-4eb5-939f-ffd0e37c1c80"
      },
      "execution_count": 398,
      "outputs": [
        {
          "output_type": "display_data",
          "data": {
            "text/plain": [
              "<Figure size 1152x720 with 1 Axes>"
            ],
            "image/png": "[encoded data removed]"
          },
          "metadata": {
            "needs_background": "light"
          }
        }
      ]
    }
  ]
}